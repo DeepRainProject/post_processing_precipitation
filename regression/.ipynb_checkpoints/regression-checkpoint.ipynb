{
 "cells": [
  {
   "cell_type": "code",
   "execution_count": null,
   "id": "mathematical-fabric",
   "metadata": {},
   "outputs": [],
   "source": [
    "import numpy as np\n",
    "import tensorflow as tf\n",
    "import matplotlib.pyplot as plt\n",
    "\n",
    "from sklearn.model_selection import KFold\n",
    "from sklearn.metrics import *\n",
    "from validate import validate"
   ]
  },
  {
   "cell_type": "code",
   "execution_count": null,
   "id": "united-executive",
   "metadata": {},
   "outputs": [],
   "source": [
    "station = 'muOsna'\n",
    "dwd_specific_muOsna_skill = 0.39335437163541853"
   ]
  },
  {
   "cell_type": "code",
   "execution_count": null,
   "id": "supreme-spectrum",
   "metadata": {},
   "outputs": [],
   "source": [
    "data_path = '/p/home/jusers/rojascampos1/juwels/MyProjects/PROJECT_deepacf/deeprain/rojascampos1/precipitation_prediction/data/'\n",
    "trn_x = np.loadtxt(data_path + station + '_0_4_5x5_allFeatures_created_2020-10-23/train_x.csv', delimiter=',') #  np.loadtxt('data/' + station + '_0_4_5x5_allFeatures_created_2020-10-23/train_x.csv', delimiter=',')\n",
    "trn_y = np.loadtxt(data_path + station + '_0_4_5x5_allFeatures_created_2020-10-23/train_y.csv', delimiter=',')\n",
    "tst_x = np.loadtxt(data_path + station + '_0_4_5x5_allFeatures_created_2020-10-23/test_x.csv', delimiter=',')\n",
    "tst_y = np.loadtxt(data_path + station + '_0_4_5x5_allFeatures_created_2020-10-23/test_y.csv', delimiter=',')\n",
    "\n",
    "print(trn_x.shape, '--->', trn_y.shape)\n",
    "print(tst_x.shape, '--->', tst_y.shape)"
   ]
  },
  {
   "cell_type": "code",
   "execution_count": null,
   "id": "decent-spirituality",
   "metadata": {},
   "outputs": [],
   "source": [
    "tst_t = np.load(data_path + station + '_0_4_5x5_allFeatures_created_2020-10-23/timepoints_test.npy')\n",
    "\n",
    "tst_t.shape"
   ]
  },
  {
   "cell_type": "code",
   "execution_count": null,
   "id": "former-andrew",
   "metadata": {},
   "outputs": [],
   "source": [
    "trn_y = np.exp(trn_y)\n",
    "tst_y = np.exp(tst_y)\n",
    "print(tst_y)"
   ]
  },
  {
   "cell_type": "code",
   "execution_count": null,
   "id": "korean-nickel",
   "metadata": {},
   "outputs": [],
   "source": [
    "## Gordon's used features\n",
    "id_predictors   = np.loadtxt('/p/project/deepacf/deeprain/rojascampos1/precipitation_prediction/data/00_gordons_regression'+'/'+station+'/'+station+ '_ID_Predictors.txt', dtype=np.int32,delimiter=',')\n",
    "id_predictors   = id_predictors - 1 ## Matlab index start in 1\n",
    "trn_x = trn_x[:, id_predictors]\n",
    "tst_x = tst_x[:, id_predictors]"
   ]
  },
  {
   "cell_type": "markdown",
   "id": "acknowledged-barbados",
   "metadata": {},
   "source": [
    "### Only days with rain"
   ]
  },
  {
   "cell_type": "code",
   "execution_count": 7,
   "id": "emotional-regard",
   "metadata": {},
   "outputs": [],
   "source": [
    "# trn_mask_rain = trn_y >= 0.1\n",
    "# tst_mask_rain = tst_y >= 0.1\n",
    "\n",
    "# trn_x = trn_x[trn_mask_rain]\n",
    "# trn_y = trn_y[trn_mask_rain]\n",
    "# tst_x = tst_x[tst_mask_rain]\n",
    "# tst_y = tst_y[tst_mask_rain]\n",
    "# tst_t = tst_t[tst_mask_rain]\n",
    "\n",
    "# print(trn_x.shape, '--->', trn_y.shape)\n",
    "# print(tst_x.shape, '--->', tst_y.shape)"
   ]
  },
  {
   "cell_type": "code",
   "execution_count": null,
   "id": "injured-birmingham",
   "metadata": {},
   "outputs": [],
   "source": [
    "batch_size = 8\n",
    "epochs = 32\n",
    "\n",
    "optimizer = tf.optimizers.Adam(learning_rate=0.001)\n",
    "loss = tf.keras.losses.MeanSquaredLogarithmicError()\n",
    "early_stop = tf.keras.callbacks.EarlyStopping(monitor='val_loss', min_delta=0.001, patience=5)\n",
    "\n",
    "cvalid_mses = []\n",
    "cvalid_models = []\n",
    "\n",
    "\n",
    "## In each run, train 10 differents model with cross validation\n",
    "kf = KFold(n_splits=2, shuffle=True)\n",
    "for train_index, test_index in kf.split(trn_x, trn_y):\n",
    "    \n",
    "    \n",
    "    model = tf.keras.Sequential()\n",
    "    model.add(tf.keras.layers.Dense(8, activation='relu', input_shape=(trn_x.shape[1],)))\n",
    "#     model.add(tf.keras.layers.Dense(10, activation='relu'))\n",
    "#     model.add(tf.keras.layers.Dense(10, activation='relu'))\n",
    "    model.add(tf.keras.layers.Dense(8, activation='relu'))\n",
    "    model.add(tf.keras.layers.Dense(1))\n",
    "    \n",
    "    model.compile(optimizer, loss)\n",
    "    \n",
    "    hist = model.fit(trn_x[train_index], trn_y[train_index], batch_size, epochs, validation_data=(trn_x[test_index], trn_y[test_index]), callbacks=[early_stop], shuffle=True)\n",
    "    print(hist)\n",
    "  \n",
    "    preds = model(tst_x)\n",
    "    preds = np.squeeze(preds)\n",
    "    mse = mean_squared_error(tst_y, preds)\n",
    "    cvalid_models.append(model)\n",
    "    cvalid_mses.append(mse)\n",
    "    print()\n",
    "    print()\n",
    "    \n",
    "         "
   ]
  },
  {
   "cell_type": "code",
   "execution_count": 26,
   "id": "foreign-appeal",
   "metadata": {},
   "outputs": [
    {
     "name": "stdout",
     "output_type": "stream",
     "text": [
      "[0.2526070931489095, 0.31026217583627724, 0.46255073010554776, 0.39546543086417396, 0.3507284348389203, 0.4005895758242707, 0.28808674947522595, 0.33206739470289526, 0.39851158482620486, 3.325002719273091]\n",
      "best= 0\n"
     ]
    }
   ],
   "source": []
  },
  {
   "cell_type": "code",
   "execution_count": 27,
   "id": "signed-sodium",
   "metadata": {},
   "outputs": [],
   "source": [
    "print(cvalid_mses)\n",
    "index_best = np.argmin(cvalid_mses)\n",
    "print('best=', index_best)\n",
    "\n",
    "model = cvalid_models[index_best]\n",
    "preds = model(tst_x)\n",
    "preds = np.squeeze(preds)"
   ]
  },
  {
   "cell_type": "code",
   "execution_count": 28,
   "id": "hourly-ratio",
   "metadata": {},
   "outputs": [
    {
     "data": {
      "image/png": "[encoded data removed]",
      "text/plain": [
       "<Figure size 720x360 with 2 Axes>"
      ]
     },
     "metadata": {
      "needs_background": "light"
     },
     "output_type": "display_data"
    }
   ],
   "source": [
    "fig, ax = plt.subplots(1,2,figsize=(10,5))\n",
    "ax[0].plot(hist.history['loss'])\n",
    "ax[1].plot(np.exp(tst_y), preds, 'ro')\n",
    "fig.show()"
   ]
  },
  {
   "cell_type": "code",
   "execution_count": null,
   "id": "brave-tender",
   "metadata": {},
   "outputs": [],
   "source": []
  },
  {
   "cell_type": "code",
   "execution_count": 29,
   "id": "aboriginal-surge",
   "metadata": {},
   "outputs": [
    {
     "data": {
      "text/plain": [
       "array([ 0.24922907,  0.23484026,  0.4589209 ,  0.5709193 ,  0.19449253,\n",
       "        0.25624904,  0.4463418 ,  2.2416441 ,  0.34305522,  0.2275343 ,\n",
       "        0.88528895,  0.17205352,  0.19449253,  1.3462464 ,  1.4189154 ,\n",
       "        0.32576895,  1.3879756 ,  0.5055276 ,  0.19449253,  0.19449253,\n",
       "        0.47898394,  1.0698974 ,  1.4120568 , -0.04584689,  0.8623553 ],\n",
       "      dtype=float32)"
      ]
     },
     "execution_count": 29,
     "metadata": {},
     "output_type": "execute_result"
    }
   ],
   "source": [
    "preds"
   ]
  },
  {
   "cell_type": "code",
   "execution_count": null,
   "id": "pending-burst",
   "metadata": {},
   "outputs": [],
   "source": []
  },
  {
   "cell_type": "code",
   "execution_count": 30,
   "id": "subject-preserve",
   "metadata": {},
   "outputs": [
    {
     "name": "stdout",
     "output_type": "stream",
     "text": [
      "0.49303879710413956\n"
     ]
    }
   ],
   "source": [
    "leps_preds = validate(preds, tst_t, 0, 4, False, station)['LEPS']\n",
    "leps_cosmo = validate(preds, tst_t, 0, 4, True, station)['LEPS'][9]\n",
    "skill = 1 - (leps_preds / leps_cosmo)\n",
    "print(skill)"
   ]
  },
  {
   "cell_type": "code",
   "execution_count": 31,
   "id": "descending-signal",
   "metadata": {},
   "outputs": [
    {
     "name": "stdout",
     "output_type": "stream",
     "text": [
      "True\n"
     ]
    }
   ],
   "source": [
    "print(skill > dwd_specific_muOsna_skill)"
   ]
  },
  {
   "cell_type": "code",
   "execution_count": null,
   "id": "instrumental-camel",
   "metadata": {},
   "outputs": [],
   "source": []
  },
  {
   "cell_type": "code",
   "execution_count": null,
   "id": "tight-nursing",
   "metadata": {},
   "outputs": [],
   "source": []
  },
  {
   "cell_type": "code",
   "execution_count": null,
   "id": "spatial-status",
   "metadata": {},
   "outputs": [],
   "source": []
  }
 ],
 "metadata": {
  "kernelspec": {
   "display_name": "PyDeepLearning-1.0",
   "language": "python",
   "name": "pydeeplearning"
  },
  "language_info": {
   "codemirror_mode": {
    "name": "ipython",
    "version": 3
   },
   "file_extension": ".py",
   "mimetype": "text/x-python",
   "name": "python",
   "nbconvert_exporter": "python",
   "pygments_lexer": "ipython3",
   "version": "3.8.5"
  }
 },
 "nbformat": 4,
 "nbformat_minor": 5
}
