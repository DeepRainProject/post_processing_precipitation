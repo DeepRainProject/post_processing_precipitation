{
 "cells": [
  {
   "cell_type": "code",
   "execution_count": 1,
   "id": "expected-pepper",
   "metadata": {},
   "outputs": [],
   "source": [
    "import numpy as np\n",
    "import tensorflow as tf\n",
    "import matplotlib.pyplot as plt\n",
    "\n",
    "from sklearn.model_selection import KFold\n",
    "from sklearn.metrics import *\n",
    "from validate import validate"
   ]
  },
  {
   "cell_type": "code",
   "execution_count": 2,
   "id": "plain-detector",
   "metadata": {},
   "outputs": [],
   "source": [
    "station = 'muOsna'\n",
    "dwd_specific_muOsna_skill = 0.39335437163541853"
   ]
  },
  {
   "cell_type": "code",
   "execution_count": 3,
   "id": "cardiac-barrel",
   "metadata": {},
   "outputs": [
    {
     "name": "stdout",
     "output_type": "stream",
     "text": [
      "(737, 3575) ---> (737,)\n",
      "(25, 3575) ---> (25,)\n"
     ]
    }
   ],
   "source": [
    "data_path = '/p/home/jusers/rojascampos1/juwels/MyProjects/PROJECT_deepacf/deeprain/rojascampos1/precipitation_prediction/data/'\n",
    "trn_x = np.loadtxt(data_path + station + '_0_4_5x5_allFeatures_created_2020-10-23/train_x.csv', delimiter=',') #  np.loadtxt('data/' + station + '_0_4_5x5_allFeatures_created_2020-10-23/train_x.csv', delimiter=',')\n",
    "trn_y = np.loadtxt(data_path + station + '_0_4_5x5_allFeatures_created_2020-10-23/train_y.csv', delimiter=',')\n",
    "tst_x = np.loadtxt(data_path + station + '_0_4_5x5_allFeatures_created_2020-10-23/test_x.csv', delimiter=',')\n",
    "tst_y = np.loadtxt(data_path + station + '_0_4_5x5_allFeatures_created_2020-10-23/test_y.csv', delimiter=',')\n",
    "\n",
    "print(trn_x.shape, '--->', trn_y.shape)\n",
    "print(tst_x.shape, '--->', tst_y.shape)"
   ]
  },
  {
   "cell_type": "code",
   "execution_count": 4,
   "id": "distant-retreat",
   "metadata": {},
   "outputs": [
    {
     "data": {
      "text/plain": [
       "(25,)"
      ]
     },
     "execution_count": 4,
     "metadata": {},
     "output_type": "execute_result"
    }
   ],
   "source": [
    "tst_t = np.load(data_path + station + '_0_4_5x5_allFeatures_created_2020-10-23/timepoints_test.npy')\n",
    "\n",
    "tst_t.shape"
   ]
  },
  {
   "cell_type": "code",
   "execution_count": 5,
   "id": "municipal-significance",
   "metadata": {},
   "outputs": [
    {
     "name": "stdout",
     "output_type": "stream",
     "text": [
      "[0.1 0.2 0.4 0.4 0.2 0.1 0.1 2.  0.1 0.3 2.8 0.1 0.1 1.9 1.6 0.1 1.4 0.7\n",
      " 0.6 0.1 0.3 0.1 0.6 0.1 1.1]\n"
     ]
    }
   ],
   "source": [
    "trn_y = np.exp(trn_y)\n",
    "tst_y = np.exp(tst_y)\n",
    "print(tst_y)"
   ]
  },
  {
   "cell_type": "code",
   "execution_count": 6,
   "id": "asian-programmer",
   "metadata": {},
   "outputs": [],
   "source": [
    "## Gordon's used features\n",
    "id_predictors   = np.loadtxt('/p/project/deepacf/deeprain/rojascampos1/precipitation_prediction/data/00_gordons_regression'+'/'+station+'/'+station+ '_ID_Predictors.txt', dtype=np.int32,delimiter=',')\n",
    "id_predictors   = id_predictors - 1 ## Matlab index start in 1\n",
    "trn_x = trn_x[:, id_predictors]\n",
    "tst_x = tst_x[:, id_predictors]"
   ]
  },
  {
   "cell_type": "markdown",
   "id": "marked-dispatch",
   "metadata": {},
   "source": [
    "### Only days with rain"
   ]
  },
  {
   "cell_type": "code",
   "execution_count": 7,
   "id": "supreme-easter",
   "metadata": {},
   "outputs": [],
   "source": [
    "# trn_mask_rain = trn_y >= 0.1\n",
    "# tst_mask_rain = tst_y >= 0.1\n",
    "\n",
    "# trn_x = trn_x[trn_mask_rain]\n",
    "# trn_y = trn_y[trn_mask_rain]\n",
    "# tst_x = tst_x[tst_mask_rain]\n",
    "# tst_y = tst_y[tst_mask_rain]\n",
    "# tst_t = tst_t[tst_mask_rain]\n",
    "\n",
    "# print(trn_x.shape, '--->', trn_y.shape)\n",
    "# print(tst_x.shape, '--->', tst_y.shape)"
   ]
  },
  {
   "cell_type": "code",
   "execution_count": 8,
   "id": "located-delicious",
   "metadata": {},
   "outputs": [
    {
     "name": "stdout",
     "output_type": "stream",
     "text": [
      "Epoch 1/32\n",
      "46/46 [==============================] - 5s 111ms/step - loss: 0.1962 - val_loss: 0.1644\n",
      "Epoch 2/32\n",
      "46/46 [==============================] - 5s 111ms/step - loss: 0.1617 - val_loss: 0.1493\n",
      "Epoch 3/32\n",
      "46/46 [==============================] - 7s 143ms/step - loss: 0.1428 - val_loss: 0.1424\n",
      "Epoch 4/32\n",
      "46/46 [==============================] - 7s 148ms/step - loss: 0.1332 - val_loss: 0.1362\n",
      "Epoch 5/32\n",
      "46/46 [==============================] - 6s 137ms/step - loss: 0.1254 - val_loss: 0.1329\n",
      "Epoch 6/32\n",
      "46/46 [==============================] - 6s 137ms/step - loss: 0.1186 - val_loss: 0.1299\n",
      "Epoch 7/32\n",
      "46/46 [==============================] - 6s 138ms/step - loss: 0.1122 - val_loss: 0.1281\n",
      "Epoch 8/32\n",
      "46/46 [==============================] - 6s 132ms/step - loss: 0.1075 - val_loss: 0.1274\n",
      "Epoch 9/32\n",
      "46/46 [==============================] - 3s 67ms/step - loss: 0.1037 - val_loss: 0.1259\n",
      "Epoch 10/32\n",
      "46/46 [==============================] - 2s 53ms/step - loss: 0.1001 - val_loss: 0.1255\n",
      "Epoch 11/32\n",
      "46/46 [==============================] - 4s 85ms/step - loss: 0.0973 - val_loss: 0.1259\n",
      "Epoch 12/32\n",
      "46/46 [==============================] - 5s 99ms/step - loss: 0.0946 - val_loss: 0.1247\n",
      "Epoch 13/32\n",
      "46/46 [==============================] - 5s 104ms/step - loss: 0.0929 - val_loss: 0.1244\n",
      "Epoch 14/32\n",
      "46/46 [==============================] - 5s 109ms/step - loss: 0.0903 - val_loss: 0.1242\n",
      "Epoch 15/32\n",
      "46/46 [==============================] - 6s 127ms/step - loss: 0.0884 - val_loss: 0.1237\n",
      "Epoch 16/32\n",
      "46/46 [==============================] - 5s 116ms/step - loss: 0.0869 - val_loss: 0.1235\n",
      "Epoch 17/32\n",
      "46/46 [==============================] - 5s 103ms/step - loss: 0.0849 - val_loss: 0.1235\n",
      "Epoch 18/32\n",
      "46/46 [==============================] - 5s 118ms/step - loss: 0.0832 - val_loss: 0.1240\n",
      "Epoch 19/32\n",
      "46/46 [==============================] - 6s 125ms/step - loss: 0.0821 - val_loss: 0.1244\n",
      "Epoch 20/32\n",
      "46/46 [==============================] - 5s 115ms/step - loss: 0.0808 - val_loss: 0.1239\n",
      "<tensorflow.python.keras.callbacks.History object at 0x7ff020c7c4c0>\n",
      "\n",
      "\n",
      "Epoch 1/32\n",
      "47/47 [==============================] - 8s 162ms/step - loss: 0.2248 - val_loss: 0.1555\n",
      "Epoch 2/32\n",
      "47/47 [==============================] - 6s 138ms/step - loss: 0.1258 - val_loss: 0.1481\n",
      "Epoch 3/32\n",
      "47/47 [==============================] - 6s 121ms/step - loss: 0.1041 - val_loss: 0.1415\n",
      "Epoch 4/32\n",
      "47/47 [==============================] - 7s 150ms/step - loss: 0.0963 - val_loss: 0.1398\n",
      "Epoch 5/32\n",
      "47/47 [==============================] - 7s 143ms/step - loss: 0.0921 - val_loss: 0.1401\n",
      "Epoch 6/32\n",
      "47/47 [==============================] - 6s 138ms/step - loss: 0.0874 - val_loss: 0.1386\n",
      "Epoch 7/32\n",
      "47/47 [==============================] - 6s 132ms/step - loss: 0.0844 - val_loss: 0.1396\n",
      "Epoch 8/32\n",
      "47/47 [==============================] - 6s 125ms/step - loss: 0.0817 - val_loss: 0.1390\n",
      "Epoch 9/32\n",
      "47/47 [==============================] - 6s 125ms/step - loss: 0.0794 - val_loss: 0.1390\n",
      "Epoch 10/32\n",
      "47/47 [==============================] - 5s 104ms/step - loss: 0.0774 - val_loss: 0.1399\n",
      "Epoch 11/32\n",
      "47/47 [==============================] - 6s 123ms/step - loss: 0.0757 - val_loss: 0.1396\n",
      "<tensorflow.python.keras.callbacks.History object at 0x7fefcc0ae940>\n",
      "\n",
      "\n"
     ]
    }
   ],
   "source": [
    "batch_size = 8\n",
    "epochs = 32\n",
    "\n",
    "optimizer = tf.optimizers.Adam(learning_rate=0.001)\n",
    "loss = tf.keras.losses.MeanSquaredLogarithmicError()\n",
    "early_stop = tf.keras.callbacks.EarlyStopping(monitor='val_loss', min_delta=0.001, patience=5)\n",
    "\n",
    "cvalid_mses = []\n",
    "cvalid_models = []\n",
    "\n",
    "\n",
    "## In each run, train 10 differents model with cross validation\n",
    "kf = KFold(n_splits=2, shuffle=True)\n",
    "for train_index, test_index in kf.split(trn_x, trn_y):\n",
    "    \n",
    "    \n",
    "    model = tf.keras.Sequential()\n",
    "    model.add(tf.keras.layers.Dense(8, activation='relu', input_shape=(trn_x.shape[1],)))\n",
    "#     model.add(tf.keras.layers.Dense(10, activation='relu'))\n",
    "#     model.add(tf.keras.layers.Dense(10, activation='relu'))\n",
    "    model.add(tf.keras.layers.Dense(8, activation='relu'))\n",
    "    model.add(tf.keras.layers.Dense(1))\n",
    "    \n",
    "    model.compile(optimizer, loss)\n",
    "    \n",
    "    hist = model.fit(trn_x[train_index], trn_y[train_index], batch_size, epochs, validation_data=(trn_x[test_index], trn_y[test_index]), callbacks=[early_stop], shuffle=True)\n",
    "    print(hist)\n",
    "  \n",
    "    preds = model(tst_x)\n",
    "    preds = np.squeeze(preds)\n",
    "    mse = mean_squared_error(tst_y, preds)\n",
    "    cvalid_models.append(model)\n",
    "    cvalid_mses.append(mse)\n",
    "    print()\n",
    "    print()\n",
    "    \n",
    "         "
   ]
  },
  {
   "cell_type": "code",
   "execution_count": 18,
   "id": "collective-circle",
   "metadata": {},
   "outputs": [
    {
     "data": {
      "text/plain": [
       "0.13959264755249023"
      ]
     },
     "execution_count": 18,
     "metadata": {},
     "output_type": "execute_result"
    }
   ],
   "source": [
    "hist.history['val_loss'][-1]"
   ]
  },
  {
   "cell_type": "code",
   "execution_count": 9,
   "id": "varying-extent",
   "metadata": {},
   "outputs": [
    {
     "name": "stdout",
     "output_type": "stream",
     "text": [
      "1/1 [==============================] - 0s 1ms/step - loss: 0.0000e+00\n",
      "0.0\n"
     ]
    }
   ],
   "source": [
    "r = model.evaluate(tst_x)\n",
    "print(r)"
   ]
  },
  {
   "cell_type": "code",
   "execution_count": 10,
   "id": "whole-personal",
   "metadata": {},
   "outputs": [
    {
     "name": "stdout",
     "output_type": "stream",
     "text": [
      "[0.20066406717728502, 0.4498341678593778]\n",
      "best= 0\n"
     ]
    }
   ],
   "source": [
    "print(cvalid_mses)\n",
    "index_best = np.argmin(cvalid_mses)\n",
    "print('best=', index_best)\n",
    "\n",
    "model = cvalid_models[index_best]\n",
    "preds = model(tst_x)\n",
    "preds = np.squeeze(preds)"
   ]
  },
  {
   "cell_type": "code",
   "execution_count": 11,
   "id": "studied-august",
   "metadata": {},
   "outputs": [
    {
     "data": {
      "image/png": "[encoded data removed]",
      "text/plain": [
       "<Figure size 720x360 with 2 Axes>"
      ]
     },
     "metadata": {
      "needs_background": "light"
     },
     "output_type": "display_data"
    }
   ],
   "source": [
    "fig, ax = plt.subplots(1,2,figsize=(10,5))\n",
    "ax[0].plot(hist.history['loss'])\n",
    "ax[1].plot(np.exp(tst_y), preds, 'ro')\n",
    "fig.show()"
   ]
  },
  {
   "cell_type": "code",
   "execution_count": null,
   "id": "unexpected-indonesian",
   "metadata": {},
   "outputs": [],
   "source": []
  },
  {
   "cell_type": "code",
   "execution_count": 12,
   "id": "scientific-tooth",
   "metadata": {},
   "outputs": [
    {
     "data": {
      "text/plain": [
       "array([ 0.8942099 ,  0.22339682,  0.28670686,  0.25349954,  0.12857412,\n",
       "        0.28329048,  0.61343586,  0.8601953 ,  0.28073144,  0.21251774,\n",
       "        1.8792038 , -0.1109027 ,  0.02808332,  1.6353595 ,  1.2015617 ,\n",
       "        0.26403046,  1.358063  ,  0.72777253, -0.02744341,  0.4168808 ,\n",
       "        0.194997  ,  0.8846247 ,  0.83948344,  0.23357168,  0.5020814 ],\n",
       "      dtype=float32)"
      ]
     },
     "execution_count": 12,
     "metadata": {},
     "output_type": "execute_result"
    }
   ],
   "source": [
    "preds"
   ]
  },
  {
   "cell_type": "code",
   "execution_count": null,
   "id": "sensitive-gothic",
   "metadata": {},
   "outputs": [],
   "source": []
  },
  {
   "cell_type": "code",
   "execution_count": 13,
   "id": "amateur-snowboard",
   "metadata": {},
   "outputs": [
    {
     "ename": "TypeError",
     "evalue": "only list-like objects are allowed to be passed to isin(), you passed a [int]",
     "output_type": "error",
     "traceback": [
      "\u001b[0;31m---------------------------------------------------------------------------\u001b[0m",
      "\u001b[0;31mTypeError\u001b[0m                                 Traceback (most recent call last)",
      "\u001b[0;32m<ipython-input-13-b07b3a3325f6>\u001b[0m in \u001b[0;36m<module>\u001b[0;34m\u001b[0m\n\u001b[0;32m----> 1\u001b[0;31m \u001b[0mleps_preds\u001b[0m \u001b[0;34m=\u001b[0m \u001b[0mvalidate\u001b[0m\u001b[0;34m(\u001b[0m\u001b[0mpreds\u001b[0m\u001b[0;34m,\u001b[0m \u001b[0mtst_t\u001b[0m\u001b[0;34m,\u001b[0m \u001b[0;36m0\u001b[0m\u001b[0;34m,\u001b[0m \u001b[0;36m4\u001b[0m\u001b[0;34m,\u001b[0m \u001b[0;32mFalse\u001b[0m\u001b[0;34m,\u001b[0m \u001b[0mstation\u001b[0m\u001b[0;34m)\u001b[0m\u001b[0;34m[\u001b[0m\u001b[0;34m'LEPS'\u001b[0m\u001b[0;34m]\u001b[0m\u001b[0;34m\u001b[0m\u001b[0;34m\u001b[0m\u001b[0m\n\u001b[0m\u001b[1;32m      2\u001b[0m \u001b[0mleps_cosmo\u001b[0m \u001b[0;34m=\u001b[0m \u001b[0mvalidate\u001b[0m\u001b[0;34m(\u001b[0m\u001b[0mpreds\u001b[0m\u001b[0;34m,\u001b[0m \u001b[0mtst_t\u001b[0m\u001b[0;34m,\u001b[0m \u001b[0;36m0\u001b[0m\u001b[0;34m,\u001b[0m \u001b[0;36m4\u001b[0m\u001b[0;34m,\u001b[0m \u001b[0;32mTrue\u001b[0m\u001b[0;34m,\u001b[0m \u001b[0mstation\u001b[0m\u001b[0;34m)\u001b[0m\u001b[0;34m[\u001b[0m\u001b[0;34m'LEPS'\u001b[0m\u001b[0;34m]\u001b[0m\u001b[0;34m[\u001b[0m\u001b[0;36m9\u001b[0m\u001b[0;34m]\u001b[0m\u001b[0;34m\u001b[0m\u001b[0;34m\u001b[0m\u001b[0m\n\u001b[1;32m      3\u001b[0m \u001b[0mskill\u001b[0m \u001b[0;34m=\u001b[0m \u001b[0;36m1\u001b[0m \u001b[0;34m-\u001b[0m \u001b[0;34m(\u001b[0m\u001b[0mleps_preds\u001b[0m \u001b[0;34m/\u001b[0m \u001b[0mleps_cosmo\u001b[0m\u001b[0;34m)\u001b[0m\u001b[0;34m\u001b[0m\u001b[0;34m\u001b[0m\u001b[0m\n\u001b[1;32m      4\u001b[0m \u001b[0mprint\u001b[0m\u001b[0;34m(\u001b[0m\u001b[0mskill\u001b[0m\u001b[0;34m)\u001b[0m\u001b[0;34m\u001b[0m\u001b[0;34m\u001b[0m\u001b[0m\n",
      "\u001b[0;32m/p/project/deepacf/deeprain/rojascampos1/post_processing_for_precipitation/regression/validate.py\u001b[0m in \u001b[0;36mvalidate\u001b[0;34m(prediction, tista, cIni, cLea, cosmoRef, cS)\u001b[0m\n\u001b[1;32m     28\u001b[0m     \u001b[0;31m# _load this data once for each weather station\u001b[0m\u001b[0;34m\u001b[0m\u001b[0;34m\u001b[0m\u001b[0;34m\u001b[0m\u001b[0m\n\u001b[1;32m     29\u001b[0m     \u001b[0mobsAndRef\u001b[0m \u001b[0;34m=\u001b[0m \u001b[0mld\u001b[0m\u001b[0;34m(\u001b[0m\u001b[0mpx\u001b[0m\u001b[0;34m+\u001b[0m\u001b[0;34mf'{cS}.forValid.1x1.y1to7.l1to21.pickle'\u001b[0m\u001b[0;34m)\u001b[0m\u001b[0;34m\u001b[0m\u001b[0;34m\u001b[0m\u001b[0m\n\u001b[0;32m---> 30\u001b[0;31m     \u001b[0mobsAndRefLocl\u001b[0m \u001b[0;34m=\u001b[0m \u001b[0mobsAndRef\u001b[0m\u001b[0;34m[\u001b[0m\u001b[0mobsAndRef\u001b[0m\u001b[0;34m[\u001b[0m\u001b[0;34m'ini'\u001b[0m\u001b[0;34m]\u001b[0m\u001b[0;34m.\u001b[0m\u001b[0misin\u001b[0m\u001b[0;34m(\u001b[0m\u001b[0mcIni\u001b[0m\u001b[0;34m)\u001b[0m\u001b[0;34m]\u001b[0m\u001b[0;34m\u001b[0m\u001b[0;34m\u001b[0m\u001b[0m\n\u001b[0m\u001b[1;32m     31\u001b[0m     \u001b[0mobsAndRefLocl\u001b[0m \u001b[0;34m=\u001b[0m \u001b[0mobsAndRefLocl\u001b[0m\u001b[0;34m[\u001b[0m\u001b[0mobsAndRefLocl\u001b[0m\u001b[0;34m[\u001b[0m\u001b[0;34m'lea'\u001b[0m\u001b[0;34m]\u001b[0m\u001b[0;34m.\u001b[0m\u001b[0misin\u001b[0m\u001b[0;34m(\u001b[0m\u001b[0mcLea\u001b[0m\u001b[0;34m)\u001b[0m\u001b[0;34m]\u001b[0m\u001b[0;34m\u001b[0m\u001b[0;34m\u001b[0m\u001b[0m\n\u001b[1;32m     32\u001b[0m     \u001b[0;31m# obsAndRefLocl = obsAndRef[(obsAndRef.ini == cIni) & (obsAndRef.lea == cLea)]\u001b[0m\u001b[0;34m\u001b[0m\u001b[0;34m\u001b[0m\u001b[0;34m\u001b[0m\u001b[0m\n",
      "\u001b[0;32m/p/software/juwels/stages/2020/software/TensorFlow/2.3.1-gcccoremkl-9.3.0-2020.2.254-Python-3.8.5/lib/python3.8/site-packages/pandas/core/series.py\u001b[0m in \u001b[0;36misin\u001b[0;34m(self, values)\u001b[0m\n\u001b[1;32m   4683\u001b[0m         \u001b[0mName\u001b[0m\u001b[0;34m:\u001b[0m \u001b[0manimal\u001b[0m\u001b[0;34m,\u001b[0m \u001b[0mdtype\u001b[0m\u001b[0;34m:\u001b[0m \u001b[0mbool\u001b[0m\u001b[0;34m\u001b[0m\u001b[0;34m\u001b[0m\u001b[0m\n\u001b[1;32m   4684\u001b[0m         \"\"\"\n\u001b[0;32m-> 4685\u001b[0;31m         \u001b[0mresult\u001b[0m \u001b[0;34m=\u001b[0m \u001b[0malgorithms\u001b[0m\u001b[0;34m.\u001b[0m\u001b[0misin\u001b[0m\u001b[0;34m(\u001b[0m\u001b[0mself\u001b[0m\u001b[0;34m,\u001b[0m \u001b[0mvalues\u001b[0m\u001b[0;34m)\u001b[0m\u001b[0;34m\u001b[0m\u001b[0;34m\u001b[0m\u001b[0m\n\u001b[0m\u001b[1;32m   4686\u001b[0m         return self._constructor(result, index=self.index).__finalize__(\n\u001b[1;32m   4687\u001b[0m             \u001b[0mself\u001b[0m\u001b[0;34m,\u001b[0m \u001b[0mmethod\u001b[0m\u001b[0;34m=\u001b[0m\u001b[0;34m\"isin\"\u001b[0m\u001b[0;34m\u001b[0m\u001b[0;34m\u001b[0m\u001b[0m\n",
      "\u001b[0;32m/p/software/juwels/stages/2020/software/TensorFlow/2.3.1-gcccoremkl-9.3.0-2020.2.254-Python-3.8.5/lib/python3.8/site-packages/pandas/core/algorithms.py\u001b[0m in \u001b[0;36misin\u001b[0;34m(comps, values)\u001b[0m\n\u001b[1;32m    415\u001b[0m         )\n\u001b[1;32m    416\u001b[0m     \u001b[0;32mif\u001b[0m \u001b[0;32mnot\u001b[0m \u001b[0mis_list_like\u001b[0m\u001b[0;34m(\u001b[0m\u001b[0mvalues\u001b[0m\u001b[0;34m)\u001b[0m\u001b[0;34m:\u001b[0m\u001b[0;34m\u001b[0m\u001b[0;34m\u001b[0m\u001b[0m\n\u001b[0;32m--> 417\u001b[0;31m         raise TypeError(\n\u001b[0m\u001b[1;32m    418\u001b[0m             \u001b[0;34m\"only list-like objects are allowed to be passed \"\u001b[0m\u001b[0;34m\u001b[0m\u001b[0;34m\u001b[0m\u001b[0m\n\u001b[1;32m    419\u001b[0m             \u001b[0;34mf\"to isin(), you passed a [{type(values).__name__}]\"\u001b[0m\u001b[0;34m\u001b[0m\u001b[0;34m\u001b[0m\u001b[0m\n",
      "\u001b[0;31mTypeError\u001b[0m: only list-like objects are allowed to be passed to isin(), you passed a [int]"
     ]
    }
   ],
   "source": [
    "leps_preds = validate(preds, tst_t, 0, 4, False, station)['LEPS']\n",
    "leps_cosmo = validate(preds, tst_t, 0, 4, True, station)['LEPS'][9]\n",
    "skill = 1 - (leps_preds / leps_cosmo)\n",
    "print(skill)"
   ]
  },
  {
   "cell_type": "code",
   "execution_count": null,
   "id": "three-amateur",
   "metadata": {},
   "outputs": [],
   "source": [
    "print(skill > dwd_specific_muOsna_skill)"
   ]
  },
  {
   "cell_type": "code",
   "execution_count": null,
   "id": "grand-honey",
   "metadata": {},
   "outputs": [],
   "source": []
  },
  {
   "cell_type": "code",
   "execution_count": null,
   "id": "confidential-intellectual",
   "metadata": {},
   "outputs": [],
   "source": []
  },
  {
   "cell_type": "code",
   "execution_count": null,
   "id": "valid-timber",
   "metadata": {},
   "outputs": [],
   "source": []
  }
 ],
 "metadata": {
  "kernelspec": {
   "display_name": "PyDeepLearning-1.0",
   "language": "python",
   "name": "pydeeplearning"
  },
  "language_info": {
   "codemirror_mode": {
    "name": "ipython",
    "version": 3
   },
   "file_extension": ".py",
   "mimetype": "text/x-python",
   "name": "python",
   "nbconvert_exporter": "python",
   "pygments_lexer": "ipython3",
   "version": "3.8.5"
  }
 },
 "nbformat": 4,
 "nbformat_minor": 5
}
